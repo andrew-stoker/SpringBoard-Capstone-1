{
 "cells": [
  {
   "cell_type": "markdown",
   "id": "96ac0859",
   "metadata": {},
   "source": [
    "# Data Preprocessing for Global Temperatures Dataset"
   ]
  },
  {
   "cell_type": "code",
   "execution_count": 6,
   "id": "a4a8e203",
   "metadata": {},
   "outputs": [
    {
     "data": {
      "text/plain": [
       "((2553, 3), (639, 3), (2553,), (639,))"
      ]
     },
     "execution_count": 6,
     "metadata": {},
     "output_type": "execute_result"
    }
   ],
   "source": [
    "import numpy as np\n",
    "import pandas as pd\n",
    "from sklearn.model_selection import train_test_split\n",
    "from sklearn.preprocessing import StandardScaler\n",
    "from sklearn.preprocessing import StandardScaler, LabelEncoder\n",
    "\n",
    "# Load the dataset for global temps\n",
    "df_global = pd.read_csv('/home/leslie-jordan/Downloads/GlobalTemperatures.csv')\n",
    "\n",
    "# Drop columns with a substantial amount of missing data\n",
    "df_global_cleaned = df_global.drop(columns=[\n",
    "    'LandMaxTemperature', \n",
    "    'LandMaxTemperatureUncertainty', \n",
    "    'LandMinTemperature', \n",
    "    'LandMinTemperatureUncertainty', \n",
    "    'LandAndOceanAverageTemperature', \n",
    "    'LandAndOceanAverageTemperatureUncertainty'\n",
    "])\n",
    "\n",
    "# Fill missing values in the remaining columns with the mean\n",
    "df_global_cleaned['LandAverageTemperature'].fillna(df_global_cleaned['LandAverageTemperature'].mean(), inplace=True)\n",
    "df_global_cleaned['LandAverageTemperatureUncertainty'].fillna(df_global_cleaned['LandAverageTemperatureUncertainty'].mean(), inplace=True)\n",
    "\n",
    "# Convert date column to datetime\n",
    "df_global_cleaned['dt'] = pd.to_datetime(df_global_cleaned['dt'])\n",
    "\n",
    "# Create year and month features\n",
    "df_global_cleaned['Year'] = df_global_cleaned['dt'].dt.year\n",
    "df_global_cleaned['Month'] = df_global_cleaned['dt'].dt.month\n",
    "\n",
    "# Drop the original date column\n",
    "df_global_cleaned = df_global_cleaned.drop(columns=['dt'])\n",
    "\n",
    "# Standardize the numerical features\n",
    "scaler = StandardScaler()\n",
    "df_global_cleaned[['LandAverageTemperature', 'LandAverageTemperatureUncertainty']] = scaler.fit_transform(\n",
    "    df_global_cleaned[['LandAverageTemperature', 'LandAverageTemperatureUncertainty']]\n",
    ")\n",
    "\n",
    "# Split the data into training and testing sets\n",
    "X = df_global_cleaned.drop(columns=['LandAverageTemperature'])\n",
    "y = df_global_cleaned['LandAverageTemperature']\n",
    "X_train, X_test, y_train, y_test = train_test_split(X, y, test_size=0.2, random_state=42)\n",
    "\n",
    "(X_train.shape, X_test.shape, y_train.shape, y_test.shape)\n"
   ]
  },
  {
   "cell_type": "code",
   "execution_count": 7,
   "id": "9181d942",
   "metadata": {},
   "outputs": [
    {
     "data": {
      "text/plain": [
       "((461969, 245), (115493, 245), (461969,), (115493,))"
      ]
     },
     "execution_count": 7,
     "metadata": {},
     "output_type": "execute_result"
    }
   ],
   "source": [
    "#Now, let's do the same for countries\n",
    "#Load the dataset for global temps\n",
    "df_country = pd.read_csv('/home/leslie-jordan/Downloads/GlobalLandTemperaturesByCountry.csv')\n",
    "\n",
    "# Fill missing values in the numerical columns with the mean\n",
    "df_country['AverageTemperature'].fillna(df_country['AverageTemperature'].mean(), inplace=True)\n",
    "df_country['AverageTemperatureUncertainty'].fillna(df_country['AverageTemperatureUncertainty'].mean(), inplace=True)\n",
    "\n",
    "# Convert date column to datetime\n",
    "df_country['dt'] = pd.to_datetime(df_country['dt'])\n",
    "\n",
    "# Create year and month features\n",
    "df_country['Year'] = df_country['dt'].dt.year\n",
    "df_country['Month'] = df_country['dt'].dt.month\n",
    "\n",
    "# Drop the original date column\n",
    "df_country = df_country.drop(columns=['dt'])\n",
    "\n",
    "# Encode the categorical feature\n",
    "df_country = pd.get_dummies(df_country, columns=['Country'], drop_first=True)\n",
    "\n",
    "# Standardize the numerical features\n",
    "scaler = StandardScaler()\n",
    "df_country[['AverageTemperature', 'AverageTemperatureUncertainty']] = scaler.fit_transform(\n",
    "    df_country[['AverageTemperature', 'AverageTemperatureUncertainty']]\n",
    ")\n",
    "\n",
    "# Split the data into training and testing sets\n",
    "X = df_country.drop(columns=['AverageTemperature'])\n",
    "y = df_country['AverageTemperature']\n",
    "X_train, X_test, y_train, y_test = train_test_split(X, y, test_size=0.2, random_state=42)\n",
    "\n",
    "(X_train.shape, X_test.shape, y_train.shape, y_test.shape)\n"
   ]
  },
  {
   "cell_type": "code",
   "execution_count": 8,
   "id": "17ab31c7",
   "metadata": {},
   "outputs": [
    {
     "data": {
      "text/html": [
       "<div>\n",
       "<style scoped>\n",
       "    .dataframe tbody tr th:only-of-type {\n",
       "        vertical-align: middle;\n",
       "    }\n",
       "\n",
       "    .dataframe tbody tr th {\n",
       "        vertical-align: top;\n",
       "    }\n",
       "\n",
       "    .dataframe thead th {\n",
       "        text-align: right;\n",
       "    }\n",
       "</style>\n",
       "<table border=\"1\" class=\"dataframe\">\n",
       "  <thead>\n",
       "    <tr style=\"text-align: right;\">\n",
       "      <th></th>\n",
       "      <th>dt</th>\n",
       "      <th>AverageTemperature</th>\n",
       "      <th>AverageTemperatureUncertainty</th>\n",
       "      <th>City</th>\n",
       "      <th>Country</th>\n",
       "      <th>Latitude</th>\n",
       "      <th>Longitude</th>\n",
       "    </tr>\n",
       "  </thead>\n",
       "  <tbody>\n",
       "    <tr>\n",
       "      <th>0</th>\n",
       "      <td>1743-11-01</td>\n",
       "      <td>6.068</td>\n",
       "      <td>1.737</td>\n",
       "      <td>Århus</td>\n",
       "      <td>Denmark</td>\n",
       "      <td>57.05N</td>\n",
       "      <td>10.33E</td>\n",
       "    </tr>\n",
       "    <tr>\n",
       "      <th>1</th>\n",
       "      <td>1743-12-01</td>\n",
       "      <td>NaN</td>\n",
       "      <td>NaN</td>\n",
       "      <td>Århus</td>\n",
       "      <td>Denmark</td>\n",
       "      <td>57.05N</td>\n",
       "      <td>10.33E</td>\n",
       "    </tr>\n",
       "    <tr>\n",
       "      <th>2</th>\n",
       "      <td>1744-01-01</td>\n",
       "      <td>NaN</td>\n",
       "      <td>NaN</td>\n",
       "      <td>Århus</td>\n",
       "      <td>Denmark</td>\n",
       "      <td>57.05N</td>\n",
       "      <td>10.33E</td>\n",
       "    </tr>\n",
       "    <tr>\n",
       "      <th>3</th>\n",
       "      <td>1744-02-01</td>\n",
       "      <td>NaN</td>\n",
       "      <td>NaN</td>\n",
       "      <td>Århus</td>\n",
       "      <td>Denmark</td>\n",
       "      <td>57.05N</td>\n",
       "      <td>10.33E</td>\n",
       "    </tr>\n",
       "    <tr>\n",
       "      <th>4</th>\n",
       "      <td>1744-03-01</td>\n",
       "      <td>NaN</td>\n",
       "      <td>NaN</td>\n",
       "      <td>Århus</td>\n",
       "      <td>Denmark</td>\n",
       "      <td>57.05N</td>\n",
       "      <td>10.33E</td>\n",
       "    </tr>\n",
       "  </tbody>\n",
       "</table>\n",
       "</div>"
      ],
      "text/plain": [
       "           dt  AverageTemperature  AverageTemperatureUncertainty   City  \\\n",
       "0  1743-11-01               6.068                          1.737  Århus   \n",
       "1  1743-12-01                 NaN                            NaN  Århus   \n",
       "2  1744-01-01                 NaN                            NaN  Århus   \n",
       "3  1744-02-01                 NaN                            NaN  Århus   \n",
       "4  1744-03-01                 NaN                            NaN  Århus   \n",
       "\n",
       "   Country Latitude Longitude  \n",
       "0  Denmark   57.05N    10.33E  \n",
       "1  Denmark   57.05N    10.33E  \n",
       "2  Denmark   57.05N    10.33E  \n",
       "3  Denmark   57.05N    10.33E  \n",
       "4  Denmark   57.05N    10.33E  "
      ]
     },
     "execution_count": 8,
     "metadata": {},
     "output_type": "execute_result"
    }
   ],
   "source": [
    "#Amazing! For the last pre-processing step, let's pre-process the cities.\n",
    "\n",
    "#Load the cities data set.\n",
    "df_city = pd.read_csv('/home/leslie-jordan/Downloads/GlobalLandTemperaturesByCity.csv')\n",
    "df_city.head()"
   ]
  },
  {
   "cell_type": "code",
   "execution_count": 9,
   "id": "243d8289",
   "metadata": {},
   "outputs": [
    {
     "data": {
      "text/plain": [
       "dt                                object\n",
       "AverageTemperature               float64\n",
       "AverageTemperatureUncertainty    float64\n",
       "City                              object\n",
       "Country                           object\n",
       "Latitude                          object\n",
       "Longitude                         object\n",
       "dtype: object"
      ]
     },
     "execution_count": 9,
     "metadata": {},
     "output_type": "execute_result"
    }
   ],
   "source": [
    "df_city.dtypes"
   ]
  },
  {
   "cell_type": "code",
   "execution_count": 10,
   "id": "c7d3855c",
   "metadata": {},
   "outputs": [
    {
     "name": "stdout",
     "output_type": "stream",
     "text": [
      "Non-datetime values in dt column:\n",
      "Empty DataFrame\n",
      "Columns: [dt, AverageTemperature, AverageTemperatureUncertainty, City, Country, Latitude, Longitude]\n",
      "Index: []\n"
     ]
    },
    {
     "data": {
      "text/plain": [
       "((6879369, 7), (1719843, 7), (6879369,), (1719843,))"
      ]
     },
     "execution_count": 10,
     "metadata": {},
     "output_type": "execute_result"
    }
   ],
   "source": [
    "# Fill missing values in the numerical columns with the mean\n",
    "df_city['AverageTemperature'].fillna(df_city['AverageTemperature'].mean(), inplace=True)\n",
    "df_city['AverageTemperatureUncertainty'].fillna(df_city['AverageTemperatureUncertainty'].mean(), inplace=True)\n",
    "\n",
    "# Convert date column to datetime, coercing errors\n",
    "df_city['dt'] = pd.to_datetime(df_city['dt'], errors='coerce')\n",
    "\n",
    "# Check for non-datetime values\n",
    "non_datetime_values = df_city[df_city['dt'].isnull()]\n",
    "print(\"Non-datetime values in dt column:\")\n",
    "print(non_datetime_values)\n",
    "\n",
    "# Drop rows with non-datetime values in dt column\n",
    "df_city = df_city.dropna(subset=['dt'])\n",
    "\n",
    "# Create year and month features\n",
    "df_city['Year'] = df_city['dt'].dt.year\n",
    "df_city['Month'] = df_city['dt'].dt.month\n",
    "\n",
    "# Drop the original date column\n",
    "df_city = df_city.drop(columns=['dt'])\n",
    "\n",
    "# Encode the categorical features using Label Encoding for City and Country\n",
    "label_encoder_city = LabelEncoder()\n",
    "df_city['City'] = label_encoder_city.fit_transform(df_city['City'])\n",
    "\n",
    "label_encoder_country = LabelEncoder()\n",
    "df_city['Country'] = label_encoder_country.fit_transform(df_city['Country'])\n",
    "\n",
    "# Convert Latitude and Longitude to string\n",
    "df_city['Latitude'] = df_city['Latitude'].astype(str)\n",
    "df_city['Longitude'] = df_city['Longitude'].astype(str)\n",
    "\n",
    "# Standardize the numerical features\n",
    "scaler = StandardScaler()\n",
    "df_city[['AverageTemperature', 'AverageTemperatureUncertainty']] = scaler.fit_transform(\n",
    "    df_city[['AverageTemperature', 'AverageTemperatureUncertainty']]\n",
    ")\n",
    "\n",
    "# Split the data into training and testing sets\n",
    "X = df_city.drop(columns=['AverageTemperature'])\n",
    "y = df_city['AverageTemperature']\n",
    "X_train, X_test, y_train, y_test = train_test_split(X, y, test_size=0.2, random_state=42)\n",
    "\n",
    "(X_train.shape, X_test.shape, y_train.shape, y_test.shape)"
   ]
  }
 ],
 "metadata": {
  "kernelspec": {
   "display_name": "Python 3 (ipykernel)",
   "language": "python",
   "name": "python3"
  },
  "language_info": {
   "codemirror_mode": {
    "name": "ipython",
    "version": 3
   },
   "file_extension": ".py",
   "mimetype": "text/x-python",
   "name": "python",
   "nbconvert_exporter": "python",
   "pygments_lexer": "ipython3",
   "version": "3.11.7"
  }
 },
 "nbformat": 4,
 "nbformat_minor": 5
}
