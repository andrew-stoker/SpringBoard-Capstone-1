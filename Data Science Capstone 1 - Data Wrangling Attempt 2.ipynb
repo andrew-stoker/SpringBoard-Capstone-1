{
 "cells": [
  {
   "cell_type": "code",
   "execution_count": 3,
   "id": "4d72879a",
   "metadata": {},
   "outputs": [
    {
     "data": {
      "text/html": [
       "        <script type=\"text/javascript\">\n",
       "        window.PlotlyConfig = {MathJaxConfig: 'local'};\n",
       "        if (window.MathJax && window.MathJax.Hub && window.MathJax.Hub.Config) {window.MathJax.Hub.Config({SVG: {font: \"STIX-Web\"}});}\n",
       "        if (typeof require !== 'undefined') {\n",
       "        require.undef(\"plotly\");\n",
       "        requirejs.config({\n",
       "            paths: {\n",
       "                'plotly': ['https://cdn.plot.ly/plotly-2.12.1.min']\n",
       "            }\n",
       "        });\n",
       "        require(['plotly'], function(Plotly) {\n",
       "            window._Plotly = Plotly;\n",
       "        });\n",
       "        }\n",
       "        </script>\n",
       "        "
      ]
     },
     "metadata": {},
     "output_type": "display_data"
    }
   ],
   "source": [
    "import numpy as np\n",
    "import pandas as pd\n",
    "import matplotlib.pyplot as plt\n",
    "%matplotlib inline\n",
    "import plotly.offline as py\n",
    "py.init_notebook_mode(connected=True)\n",
    "import plotly.graph_objs as go\n",
    "import plotly.tools as tls\n",
    "import seaborn as sns\n",
    "import time\n",
    "import warnings\n",
    "warnings.filterwarnings('ignore')"
   ]
  },
  {
   "cell_type": "code",
   "execution_count": 5,
   "id": "b9adafb0",
   "metadata": {},
   "outputs": [],
   "source": [
    "#the purpose of this capstone will be to determine how global temperatures, global temps by city, country, state, and major city all help predict temperatures in the future.\n",
    "#first, let's load the 5 data sets we'll work with\n",
    "global_temps = pd.read_csv('/home/leslie-jordan/Downloads/GlobalTemperatures.csv')\n",
    "global_temp_country = pd.read_csv('/home/leslie-jordan/Downloads/GlobalLandTemperaturesByCountry.csv')\n",
    "global_temp_state = pd.read_csv('/home/leslie-jordan/Downloads/GlobalLandTemperaturesByState.csv')\n",
    "global_temp_major_city = pd.read_csv('/home/leslie-jordan/Downloads/GlobalLandTemperaturesByMajorCity.csv')\n",
    "global_temp_city = pd.read_csv('/home/leslie-jordan/Downloads/GlobalLandTemperaturesByCity.csv')"
   ]
  },
  {
   "cell_type": "code",
   "execution_count": 34,
   "id": "fded9da4",
   "metadata": {},
   "outputs": [
    {
     "name": "stdout",
     "output_type": "stream",
     "text": [
      "<class 'pandas.core.frame.DataFrame'>\n",
      "RangeIndex: 3192 entries, 0 to 3191\n",
      "Data columns (total 9 columns):\n",
      " #   Column                                     Non-Null Count  Dtype  \n",
      "---  ------                                     --------------  -----  \n",
      " 0   dt                                         3192 non-null   object \n",
      " 1   LandAverageTemperature                     3192 non-null   float64\n",
      " 2   LandAverageTemperatureUncertainty          3192 non-null   float64\n",
      " 3   LandMaxTemperature                         1992 non-null   float64\n",
      " 4   LandMaxTemperatureUncertainty              1992 non-null   float64\n",
      " 5   LandMinTemperature                         1992 non-null   float64\n",
      " 6   LandMinTemperatureUncertainty              1992 non-null   float64\n",
      " 7   LandAndOceanAverageTemperature             1992 non-null   float64\n",
      " 8   LandAndOceanAverageTemperatureUncertainty  1992 non-null   float64\n",
      "dtypes: float64(8), object(1)\n",
      "memory usage: 224.6+ KB\n"
     ]
    }
   ],
   "source": [
    "#next, let's clean the data on each data set by fist exploring the data set and then dropping duplicates\n",
    "#we will evaluate missing values where need be\n",
    "#let's start with the global_temps and then work our way down the list of data sets in In [5]\n",
    "\n",
    "#global_temps\n",
    "global_temps.head()\n",
    "global_temps.info()"
   ]
  },
  {
   "cell_type": "code",
   "execution_count": 35,
   "id": "2cd18958",
   "metadata": {},
   "outputs": [],
   "source": [
    "#drop duplicates\n",
    "global_temps.drop_duplicates(inplace=True)"
   ]
  },
  {
   "cell_type": "code",
   "execution_count": 36,
   "id": "1a3abbd3",
   "metadata": {},
   "outputs": [],
   "source": [
    "#let's drop missing values on the average, max, min, and LandAndOceanAverage temperatures since those will be the columns used for analysis.\n",
    "global_temps.dropna(subset=['LandAverageTemperature'], inplace=True)\n",
    "global_temps.dropna(subset=['LandMaxTemperature'], inplace=True)\n",
    "global_temps.dropna(subset=['LandMinTemperature'], inplace=True)\n",
    "global_temps.dropna(subset=['LandAndOceanAverageTemperature'], inplace=True)"
   ]
  },
  {
   "cell_type": "code",
   "execution_count": 37,
   "id": "5a71a32f",
   "metadata": {},
   "outputs": [
    {
     "data": {
      "text/plain": [
       "dt                                           0\n",
       "LandAverageTemperature                       0\n",
       "LandAverageTemperatureUncertainty            0\n",
       "LandMaxTemperature                           0\n",
       "LandMaxTemperatureUncertainty                0\n",
       "LandMinTemperature                           0\n",
       "LandMinTemperatureUncertainty                0\n",
       "LandAndOceanAverageTemperature               0\n",
       "LandAndOceanAverageTemperatureUncertainty    0\n",
       "dtype: int64"
      ]
     },
     "execution_count": 37,
     "metadata": {},
     "output_type": "execute_result"
    }
   ],
   "source": [
    "#now, let's check our cleaning work\n",
    "global_temps.describe()\n",
    "global_temps.isnull().sum()"
   ]
  },
  {
   "cell_type": "code",
   "execution_count": 38,
   "id": "b15f65b7",
   "metadata": {},
   "outputs": [
    {
     "name": "stdout",
     "output_type": "stream",
     "text": [
      "<class 'pandas.core.frame.DataFrame'>\n",
      "RangeIndex: 577462 entries, 0 to 577461\n",
      "Data columns (total 4 columns):\n",
      " #   Column                         Non-Null Count   Dtype  \n",
      "---  ------                         --------------   -----  \n",
      " 0   dt                             577462 non-null  object \n",
      " 1   AverageTemperature             544811 non-null  float64\n",
      " 2   AverageTemperatureUncertainty  545550 non-null  float64\n",
      " 3   Country                        577462 non-null  object \n",
      "dtypes: float64(2), object(2)\n",
      "memory usage: 17.6+ MB\n"
     ]
    }
   ],
   "source": [
    "#great! let's do this for the other data sets as well\n",
    "\n",
    "#global_temp_country\n",
    "global_temp_country.head()\n",
    "global_temp_country.info()"
   ]
  },
  {
   "cell_type": "code",
   "execution_count": 39,
   "id": "ac246dc8",
   "metadata": {},
   "outputs": [],
   "source": [
    "#drop duplicates\n",
    "global_temp_country.drop_duplicates(inplace=True)"
   ]
  },
  {
   "cell_type": "code",
   "execution_count": 40,
   "id": "4b42e2ce",
   "metadata": {},
   "outputs": [],
   "source": [
    "#let's drop the missing values for AverageTemperature since these values will be used for analysis later\n",
    "global_temp_country.dropna(subset=['AverageTemperature'], inplace=True)"
   ]
  },
  {
   "cell_type": "code",
   "execution_count": 41,
   "id": "d281bf4f",
   "metadata": {},
   "outputs": [
    {
     "data": {
      "text/plain": [
       "dt                               0\n",
       "AverageTemperature               0\n",
       "AverageTemperatureUncertainty    0\n",
       "Country                          0\n",
       "dtype: int64"
      ]
     },
     "execution_count": 41,
     "metadata": {},
     "output_type": "execute_result"
    }
   ],
   "source": [
    "#now, let's check our cleaning work\n",
    "global_temp_country.describe()\n",
    "global_temp_country.isnull().sum()"
   ]
  },
  {
   "cell_type": "code",
   "execution_count": 42,
   "id": "36076c15",
   "metadata": {},
   "outputs": [
    {
     "name": "stdout",
     "output_type": "stream",
     "text": [
      "<class 'pandas.core.frame.DataFrame'>\n",
      "RangeIndex: 645675 entries, 0 to 645674\n",
      "Data columns (total 5 columns):\n",
      " #   Column                         Non-Null Count   Dtype  \n",
      "---  ------                         --------------   -----  \n",
      " 0   dt                             645675 non-null  object \n",
      " 1   AverageTemperature             620027 non-null  float64\n",
      " 2   AverageTemperatureUncertainty  620027 non-null  float64\n",
      " 3   State                          645675 non-null  object \n",
      " 4   Country                        645675 non-null  object \n",
      "dtypes: float64(2), object(3)\n",
      "memory usage: 24.6+ MB\n"
     ]
    }
   ],
   "source": [
    "#great! next data set, here we go\n",
    "\n",
    "#global_temp_state\n",
    "global_temp_state.head()\n",
    "global_temp_state.info()"
   ]
  },
  {
   "cell_type": "code",
   "execution_count": 43,
   "id": "b99e9ed3",
   "metadata": {},
   "outputs": [],
   "source": [
    "#drop duplicates\n",
    "global_temp_state.drop_duplicates(inplace=True)"
   ]
  },
  {
   "cell_type": "code",
   "execution_count": 44,
   "id": "78c69601",
   "metadata": {},
   "outputs": [],
   "source": [
    "#let's drop the missing values for AverageTemperature since these values will be used for analysis later\n",
    "global_temp_state.dropna(subset=['AverageTemperature'], inplace=True)"
   ]
  },
  {
   "cell_type": "code",
   "execution_count": 45,
   "id": "c8f5f5e1",
   "metadata": {},
   "outputs": [
    {
     "data": {
      "text/plain": [
       "dt                               0\n",
       "AverageTemperature               0\n",
       "AverageTemperatureUncertainty    0\n",
       "State                            0\n",
       "Country                          0\n",
       "dtype: int64"
      ]
     },
     "execution_count": 45,
     "metadata": {},
     "output_type": "execute_result"
    }
   ],
   "source": [
    "#now, let's check our cleaning work\n",
    "global_temp_state.describe()\n",
    "global_temp_state.isnull().sum()"
   ]
  },
  {
   "cell_type": "code",
   "execution_count": 46,
   "id": "53bfcc4f",
   "metadata": {},
   "outputs": [
    {
     "name": "stdout",
     "output_type": "stream",
     "text": [
      "<class 'pandas.core.frame.DataFrame'>\n",
      "RangeIndex: 239177 entries, 0 to 239176\n",
      "Data columns (total 7 columns):\n",
      " #   Column                         Non-Null Count   Dtype  \n",
      "---  ------                         --------------   -----  \n",
      " 0   dt                             239177 non-null  object \n",
      " 1   AverageTemperature             228175 non-null  float64\n",
      " 2   AverageTemperatureUncertainty  228175 non-null  float64\n",
      " 3   City                           239177 non-null  object \n",
      " 4   Country                        239177 non-null  object \n",
      " 5   Latitude                       239177 non-null  object \n",
      " 6   Longitude                      239177 non-null  object \n",
      "dtypes: float64(2), object(5)\n",
      "memory usage: 12.8+ MB\n"
     ]
    }
   ],
   "source": [
    "#great! next data set, here we go\n",
    "\n",
    "#global_temp_major_city\n",
    "global_temp_major_city.head()\n",
    "global_temp_major_city.info()"
   ]
  },
  {
   "cell_type": "code",
   "execution_count": 50,
   "id": "cc876690",
   "metadata": {},
   "outputs": [],
   "source": [
    "#drop duplicates\n",
    "global_temp_major_city.drop_duplicates(inplace=True)"
   ]
  },
  {
   "cell_type": "code",
   "execution_count": 51,
   "id": "ed5ef8b8",
   "metadata": {},
   "outputs": [],
   "source": [
    "#let's drop the missing values for AverageTemperature since these values will be used for analysis later\n",
    "global_temp_major_city.dropna(subset=['AverageTemperature'], inplace=True)"
   ]
  },
  {
   "cell_type": "code",
   "execution_count": 52,
   "id": "45cedc47",
   "metadata": {},
   "outputs": [
    {
     "data": {
      "text/plain": [
       "dt                               0\n",
       "AverageTemperature               0\n",
       "AverageTemperatureUncertainty    0\n",
       "City                             0\n",
       "Country                          0\n",
       "Latitude                         0\n",
       "Longitude                        0\n",
       "dtype: int64"
      ]
     },
     "execution_count": 52,
     "metadata": {},
     "output_type": "execute_result"
    }
   ],
   "source": [
    "#now, let's check our cleaning work\n",
    "global_temp_major_city.describe()\n",
    "global_temp_major_city.isnull().sum()"
   ]
  },
  {
   "cell_type": "code",
   "execution_count": 53,
   "id": "43a7e018",
   "metadata": {},
   "outputs": [
    {
     "name": "stdout",
     "output_type": "stream",
     "text": [
      "<class 'pandas.core.frame.DataFrame'>\n",
      "RangeIndex: 8599212 entries, 0 to 8599211\n",
      "Data columns (total 7 columns):\n",
      " #   Column                         Dtype  \n",
      "---  ------                         -----  \n",
      " 0   dt                             object \n",
      " 1   AverageTemperature             float64\n",
      " 2   AverageTemperatureUncertainty  float64\n",
      " 3   City                           object \n",
      " 4   Country                        object \n",
      " 5   Latitude                       object \n",
      " 6   Longitude                      object \n",
      "dtypes: float64(2), object(5)\n",
      "memory usage: 459.2+ MB\n"
     ]
    }
   ],
   "source": [
    "#great! onto our last data set\n",
    "\n",
    "#global_temp_city\n",
    "global_temp_city.head()\n",
    "global_temp_city.info()"
   ]
  },
  {
   "cell_type": "code",
   "execution_count": 54,
   "id": "e5574606",
   "metadata": {},
   "outputs": [],
   "source": [
    "#drop duplicates\n",
    "global_temp_city.drop_duplicates(inplace=True)"
   ]
  },
  {
   "cell_type": "code",
   "execution_count": 55,
   "id": "7ddc80e5",
   "metadata": {},
   "outputs": [],
   "source": [
    "#let's drop the missing values for AverageTemperature since these values will be used for analysis later\n",
    "global_temp_city.dropna(subset=['AverageTemperature'], inplace=True)"
   ]
  },
  {
   "cell_type": "code",
   "execution_count": 56,
   "id": "a71d5bed",
   "metadata": {},
   "outputs": [
    {
     "data": {
      "text/plain": [
       "dt                               0\n",
       "AverageTemperature               0\n",
       "AverageTemperatureUncertainty    0\n",
       "City                             0\n",
       "Country                          0\n",
       "Latitude                         0\n",
       "Longitude                        0\n",
       "dtype: int64"
      ]
     },
     "execution_count": 56,
     "metadata": {},
     "output_type": "execute_result"
    }
   ],
   "source": [
    "#now, let's check our cleaning work\n",
    "global_temp_city.describe()\n",
    "global_temp_city.isnull().sum()"
   ]
  },
  {
   "cell_type": "code",
   "execution_count": null,
   "id": "9a45fb34",
   "metadata": {},
   "outputs": [],
   "source": [
    "#great! all of our data is cleaned and ready to analyze/work with\n",
    "#we might consider to join these tables in the future in case comparing temperatures across cities, countries, etc. might be useful\n",
    "#for now, let's avoid joining them until we explore the data further and see what trends come up"
   ]
  }
 ],
 "metadata": {
  "kernelspec": {
   "display_name": "Python 3 (ipykernel)",
   "language": "python",
   "name": "python3"
  },
  "language_info": {
   "codemirror_mode": {
    "name": "ipython",
    "version": 3
   },
   "file_extension": ".py",
   "mimetype": "text/x-python",
   "name": "python",
   "nbconvert_exporter": "python",
   "pygments_lexer": "ipython3",
   "version": "3.11.7"
  }
 },
 "nbformat": 4,
 "nbformat_minor": 5
}
